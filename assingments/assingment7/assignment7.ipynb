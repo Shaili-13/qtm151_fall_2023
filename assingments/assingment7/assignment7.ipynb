{
 "cells": [
  {
   "attachments": {},
   "cell_type": "markdown",
   "metadata": {},
   "source": [
    "# Assignment 7"
   ]
  },
  {
   "attachments": {},
   "cell_type": "markdown",
   "metadata": {},
   "source": [
    "## Try to submit as an HTML file"
   ]
  },
  {
   "attachments": {},
   "cell_type": "markdown",
   "metadata": {},
   "source": [
    "<font size = \"5\">\n",
    "Print your name below"
   ]
  },
  {
   "cell_type": "code",
   "execution_count": 2,
   "metadata": {},
   "outputs": [
    {
     "name": "stdout",
     "output_type": "stream",
     "text": [
      "Shaili Patel\n"
     ]
    }
   ],
   "source": [
    "# Write your answer here:\n",
    "print(\"Shaili Patel\")"
   ]
  },
  {
   "attachments": {},
   "cell_type": "markdown",
   "metadata": {},
   "source": [
    "<font size = \"5\">\n",
    "\n",
    "Import the \"pandas\" and \"numpy\" library"
   ]
  },
  {
   "cell_type": "code",
   "execution_count": 3,
   "metadata": {},
   "outputs": [],
   "source": [
    "# Write your answer here:\n",
    "import pandas as pd\n",
    "import numpy as np"
   ]
  },
  {
   "attachments": {},
   "cell_type": "markdown",
   "metadata": {},
   "source": [
    "<font size = \"5\">\n",
    "\n",
    "(a) Replace values from intervals\n",
    "\n",
    "<font size = \"3\">\n",
    "\n",
    "- Import the dataset \"data_raw/students.csv\" to a new object \"students\"\n",
    "- Use \"pd.cut()\" to assign the column \"numericgrade\" to a letter grade <br>\n",
    "using the following table\n",
    "\n",
    "<img src=\"figures/grading_scale.png\" alt=\"drawing\" width=\"600\"/>\n",
    "\n",
    "HINT: See Lecture 12"
   ]
  },
  {
   "cell_type": "code",
   "execution_count": 17,
   "metadata": {},
   "outputs": [
    {
     "name": "stdout",
     "output_type": "stream",
     "text": [
      "    studentid  numericgrade lettergrade\n",
      "0           1            61          C-\n",
      "1           2             0         NaN\n",
      "2           3            14           F\n",
      "3           4            57           D\n",
      "4           5            72          C+\n",
      "5           6            93           A\n",
      "6           7            40           F\n",
      "7           8            11           F\n",
      "8           9             3           F\n",
      "9          10            63          C-\n",
      "10         11             7           F\n",
      "11         12            46           F\n",
      "12         13            75          B-\n",
      "13         14            95           A\n",
      "14         15            22           F\n",
      "15         16            40           F\n",
      "16         17            53           F\n",
      "17         18            57           D\n",
      "18         19            82           B\n",
      "19         20            50           F\n",
      "20         21             8           F\n",
      "21         22            87          A-\n",
      "22         23            82           B\n",
      "23         24            30           F\n",
      "24         25            62          C-\n"
     ]
    }
   ],
   "source": [
    "# Write your answer here:\n",
    "students = pd.read_csv(\"data_raw/students.csv\")\n",
    "\n",
    "bins = [0, 54, 59, 64, 69, 74, 79, 82, 86, 92, 100]\n",
    "labels = [\"F\", \"D\", \"C-\", \"C\", \"C+\", \"B-\", \"B\", \"B+\", \"A-\", \"A\"]\n",
    "\n",
    "students[\"lettergrade\"] = pd.cut(students[\"numericgrade\"], bins = bins, labels = labels, ordered = False)\n",
    "\n",
    "print(students)"
   ]
  },
  {
   "attachments": {},
   "cell_type": "markdown",
   "metadata": {},
   "source": [
    "<font size = \"5\">\n",
    "\n",
    "For questions (b)-(e) use \"sprint_results.csv\", <br>\n",
    "a dataset on competitive car racing\n",
    "\n",
    "Import the dataset \"data_raw/sprint_results.csv\" to <br>\n",
    " a new object \"sprint_results\""
   ]
  },
  {
   "cell_type": "code",
   "execution_count": 9,
   "metadata": {},
   "outputs": [],
   "source": [
    "# Write your own code\n",
    "sprint_results = pd.read_csv(\"data_raw/sprint_results.csv\")"
   ]
  },
  {
   "attachments": {},
   "cell_type": "markdown",
   "metadata": {},
   "source": [
    "<font size = \"5\">\n",
    "\n",
    "(b) Check column types\n",
    "\n",
    "<font size = \"3\">\n",
    "\n",
    "- View the dataset\n",
    "- Use the function `sprint_results.dtypes` to get the column data types\n",
    "- Search for the \"sprint_results\" table in \"codebook/f1_codebook.pdf\".\n",
    "- **Print if the type of the \"position\" column agree with the codebook?** <br>\n",
    "i.e. is it an integer, float, or string/object?\n",
    "\n",
    "HINT: See Lectures 12 and 13 for how to interpret the codebook\n",
    "\n",
    "- Print the difference you observed between the codebook and the new dataframe you have created.\n",
    "\n",
    "---\n",
    "**Optional**\n",
    "- Convert this `sprint_results.dtypes` object type into DataFrame and  the datatype of `position`.\n",
    "- HINT: Use pd.DataFrame().reset_index <br>\n",
    "`reset_index` is to convert the index to a column \n",
    "---\n",
    "\n",
    "\n",
    "\n",
    "\n",
    "\n",
    "<span style = \"color:blue\"> There are other columns that has disparity with the codebook.\\\n",
    "Feel free to explore them! </span>"
   ]
  },
  {
   "cell_type": "code",
   "execution_count": 37,
   "metadata": {},
   "outputs": [
    {
     "name": "stdout",
     "output_type": "stream",
     "text": [
      "The 'position' column data type does not match the codebook.\n",
      "\n",
      "Differences between codebook and DataFrame data types:\n",
      "position          float64\n",
      "positionText       object\n",
      "time               object\n",
      "milliseconds       object\n",
      "fastestLap         object\n",
      "fastestLapTime     object\n",
      "dtype: object\n",
      "\n",
      "Data Types DataFrame:\n",
      "       Column Name Data Type\n",
      "0         resultId     int64\n",
      "1           raceId     int64\n",
      "2         driverId     int64\n",
      "3    constructorId     int64\n",
      "4           number     int64\n",
      "5             grid     int64\n",
      "6         position   float64\n",
      "7     positionText    object\n",
      "8    positionOrder     int64\n",
      "9           points     int64\n",
      "10            laps     int64\n",
      "11            time    object\n",
      "12    milliseconds    object\n",
      "13      fastestLap    object\n",
      "14  fastestLapTime    object\n",
      "15        statusId     int64\n"
     ]
    }
   ],
   "source": [
    "# Write your own code here\n",
    "# Note: When you run \"sprint_results.dtypes\" you will get the type (int, float, object)\n",
    "# Object represents columns coded as strings.\n",
    "\n",
    "column_data_types = sprint_results.dtypes\n",
    "\n",
    "position_data_types = column_data_types[\"position\"]\n",
    "codebook_data_type = \"int\"\n",
    "\n",
    "if str(position_data_types) == codebook_data_type:\n",
    "    print(\"The 'position' column data type matches the codebook.\")\n",
    "else:\n",
    "    print(\"The 'position' column data type does not match the codebook.\")\n",
    "    \n",
    "differences = sprint_results.dtypes[sprint_results.dtypes != codebook_data_type]\n",
    "print(\"\\nDifferences between codebook and DataFrame data types:\")\n",
    "print(differences)\n",
    "\n",
    "# Optional\n",
    "data_types_df = column_data_types.reset_index()\n",
    "data_types_df.columns = [\"Column Name\", \"Data Type\"]\n",
    "print(\"\\nData Types DataFrame:\")\n",
    "print(data_types_df)"
   ]
  },
  {
   "attachments": {},
   "cell_type": "markdown",
   "metadata": {},
   "source": [
    "<font size = \"5\">\n",
    "\n",
    "(c) Clean a column\n",
    "\n",
    "<font size = \"3\">\n",
    "\n",
    "- Our goal is to replace any string values in the column \"position\" <br>\n",
    "to missing values (NaNs) and covert to numeric\n",
    "\n",
    "- To do so\n",
    "    1. Extract list of non-numeric values\n",
    "    2. Replace certain list of values\n",
    "    3. Convert column to numeric\n",
    "    4. Display\n"
   ]
  },
  {
   "cell_type": "code",
   "execution_count": 53,
   "metadata": {},
   "outputs": [
    {
     "name": "stdout",
     "output_type": "stream",
     "text": [
      "0     NaN\n",
      "1     NaN\n",
      "2     NaN\n",
      "3     NaN\n",
      "4     NaN\n",
      "       ..\n",
      "115   NaN\n",
      "116   NaN\n",
      "117   NaN\n",
      "118   NaN\n",
      "119   NaN\n",
      "Name: position, Length: 120, dtype: float64\n"
     ]
    }
   ],
   "source": [
    "# Write your own code here\n",
    "non_numeric_values = sprint_results[~sprint_results[\"position\"].astype(str).str.isnumeric()][\"position\"].unique()\n",
    "\n",
    "sprint_results.loc[sprint_results[\"position\"].isin(non_numeric_values), \"position\"] = np.nan\n",
    "\n",
    "sprint_results[\"position\"] = sprint_results[\"position\"].astype(float)\n",
    "\n",
    "print(sprint_results[\"position\"])\n"
   ]
  },
  {
   "cell_type": "code",
   "execution_count": 55,
   "metadata": {},
   "outputs": [
    {
     "name": "stdout",
     "output_type": "stream",
     "text": [
      "0     NaN\n",
      "1     NaN\n",
      "2     NaN\n",
      "3     NaN\n",
      "4     NaN\n",
      "       ..\n",
      "115   NaN\n",
      "116   NaN\n",
      "117   NaN\n",
      "118   NaN\n",
      "119   NaN\n",
      "Name: position, Length: 120, dtype: float64\n"
     ]
    }
   ],
   "source": [
    "# Create a list for replacement\n",
    "values_to_replace = [\"DNF\", \"DNS\", \"NC\", \"WD\"]\n",
    "\n",
    "sprint_results[\"position\"] = sprint_results[\"position\"].replace(values_to_replace, np.nan)\n",
    "\n",
    "sprint_results[\"position\"] = pd.to_numeric(sprint_results[\"position\"])\n",
    "\n",
    "print(sprint_results[\"position\"])"
   ]
  },
  {
   "attachments": {},
   "cell_type": "markdown",
   "metadata": {},
   "source": [
    "<font size = \"5\">\n",
    "\n",
    "(d) Groupby + Aggregate\n",
    "\n",
    "<font size = \"3\">\n",
    "\n",
    "- Compute the mean and standard deviation of \"position\", <br>\n",
    "grouping by \"constructorId\". Store the new dataset <br>\n",
    "as \"df_aggConstrcId_pos\"\n",
    "\n",
    "- Sort the aggregate dataset in ascending <br>\n",
    "order of mean position using \".sort_values()\" <br>\n",
    "(i.e., to find the constructor with drivers having the best mean positions)\n",
    "\n",
    "- Display\n",
    "\n",
    "- Print which constructorId has the lowest mean position.\n",
    "\n",
    "HINT: See Lecture 13 <br>\n"
   ]
  },
  {
   "cell_type": "code",
   "execution_count": 45,
   "metadata": {},
   "outputs": [
    {
     "name": "stdout",
     "output_type": "stream",
     "text": [
      "               mean  std\n",
      "constructorId           \n",
      "1               NaN  NaN\n",
      "3               NaN  NaN\n",
      "6               NaN  NaN\n",
      "9               NaN  NaN\n",
      "51              NaN  NaN\n",
      "117             NaN  NaN\n",
      "131             NaN  NaN\n",
      "210             NaN  NaN\n",
      "213             NaN  NaN\n",
      "214             NaN  NaN\n",
      "The constructorId with the lowest mean position is 1.\n"
     ]
    }
   ],
   "source": [
    "# Write your own code\n",
    "df_aggConstrcId_pos = sprint_results.groupby(\"constructorId\")[\"position\"].agg(['mean', 'std'])\n",
    "\n",
    "df_aggConstrcId_pos = df_aggConstrcId_pos.sort_values(by='mean', ascending=True)\n",
    "\n",
    "print(df_aggConstrcId_pos)\n",
    "\n",
    "lowest_mean_position = df_aggConstrcId_pos.iloc[0].name\n",
    "print(f\"The constructorId with the lowest mean position is {lowest_mean_position}.\")\n"
   ]
  },
  {
   "attachments": {},
   "cell_type": "markdown",
   "metadata": {},
   "source": [
    "<font size = \"5\" >\n",
    "\n",
    "(d) Query + Groupby + Aggregate\n",
    "\n",
    "<font size = \"3\">\n",
    "\n",
    "- Use \".query()\" to subset observations with <br>\n",
    "'race_id >= 100'\n",
    "\n",
    "- Compute the mean and standard deviation of \"position\", <br>\n",
    "grouping by \"constructorId\". Store the new dataset <br>\n",
    "as \"df_subAggConstr_pos\"\n",
    "\n",
    "- Display\n",
    "\n",
    "Hint: See Lectures 9 and 11 (to refresh \".query()\") and <br>\n",
    "Lecture 13 for how to combine it with \".groupby()\""
   ]
  },
  {
   "cell_type": "code",
   "execution_count": 52,
   "metadata": {},
   "outputs": [
    {
     "name": "stdout",
     "output_type": "stream",
     "text": [
      "               mean  std\n",
      "constructorId           \n",
      "1               NaN  NaN\n",
      "3               NaN  NaN\n",
      "6               NaN  NaN\n",
      "9               NaN  NaN\n",
      "51              NaN  NaN\n",
      "117             NaN  NaN\n",
      "131             NaN  NaN\n",
      "210             NaN  NaN\n",
      "213             NaN  NaN\n",
      "214             NaN  NaN\n"
     ]
    }
   ],
   "source": [
    "# Write your own code\n",
    "filtered_data = sprint_results.query('raceId >= 100')\n",
    "\n",
    "df_subAggConstr_pos = filtered_data.groupby(\"constructorId\")[\"position\"].agg(['mean', 'std'])\n",
    "\n",
    "print(df_subAggConstr_pos)"
   ]
  }
 ],
 "metadata": {
  "kernelspec": {
   "display_name": "base",
   "language": "python",
   "name": "python3"
  },
  "language_info": {
   "codemirror_mode": {
    "name": "ipython",
    "version": 3
   },
   "file_extension": ".py",
   "mimetype": "text/x-python",
   "name": "python",
   "nbconvert_exporter": "python",
   "pygments_lexer": "ipython3",
   "version": "3.11.4"
  },
  "orig_nbformat": 4,
  "vscode": {
   "interpreter": {
    "hash": "45fc1f684f6f416f40889115beff3ddf69879b64cf4bfee48cb72a61e9d15d1a"
   }
  }
 },
 "nbformat": 4,
 "nbformat_minor": 2
}
